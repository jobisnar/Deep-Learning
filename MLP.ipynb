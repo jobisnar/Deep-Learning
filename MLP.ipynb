{
 "cells": [
  {
   "cell_type": "code",
   "execution_count": 12,
   "metadata": {},
   "outputs": [],
   "source": [
    "import numpy as np\n",
    "\n",
    "from keras.datasets import cifar10\n",
    "from keras.utils.np_utils import to_categorical   \n",
    "\n",
    "\n",
    "(X_train, y_train), (X_test, y_test) = cifar10.load_data()"
   ]
  },
  {
   "cell_type": "code",
   "execution_count": 13,
   "metadata": {},
   "outputs": [],
   "source": [
    "# Transform label indices to one-hot encoded vectors\n",
    "\n",
    "y_train = to_categorical(y_train, num_classes=10)\n",
    "y_test = to_categorical(y_test, num_classes=10)\n",
    "\n",
    "# Transform images from (32,32,3) to 3072-dimensional vectors (32*32*3)\n",
    "\n",
    "X_train = np.reshape(X_train,(50000,3072))\n",
    "X_test = np.reshape(X_test,(10000,3072))\n",
    "X_train = X_train.astype('float32')\n",
    "X_test = X_test.astype('float32')\n",
    "\n",
    "# Normalization of pixel values (to [0-1] range)\n",
    "\n",
    "X_train /= 255\n",
    "X_test /= 255"
   ]
  },
  {
   "cell_type": "code",
   "execution_count": 14,
   "metadata": {},
   "outputs": [],
   "source": [
    "from keras.models import Sequential\n",
    "from keras.layers import Dense, Activation\n",
    "from keras.optimizers import SGD\n",
    "\n",
    "model = Sequential()\n",
    "model.add(Dense(256, activation='relu', input_dim=3072))\n",
    "model.add(Dense(256, activation='relu'))\n",
    "model.add(Dense(10, activation='softmax'))\n",
    "sgd = SGD(lr=0.01, decay=1e-6, momentum=0.9, nesterov=True)\n",
    "\n",
    "model.compile(optimizer=sgd,\n",
    "              loss='categorical_crossentropy',\n",
    "              metrics=['accuracy'])"
   ]
  },
  {
   "cell_type": "code",
   "execution_count": 15,
   "metadata": {},
   "outputs": [
    {
     "name": "stdout",
     "output_type": "stream",
     "text": [
      "Train on 40000 samples, validate on 10000 samples\n",
      "Epoch 1/15\n",
      " - 8s - loss: 1.8325 - acc: 0.3394 - val_loss: 1.7406 - val_acc: 0.3727\n",
      "Epoch 2/15\n",
      " - 7s - loss: 1.6611 - acc: 0.4028 - val_loss: 1.6507 - val_acc: 0.4202\n",
      "Epoch 3/15\n",
      " - 8s - loss: 1.5861 - acc: 0.4305 - val_loss: 1.6221 - val_acc: 0.4196\n",
      "Epoch 4/15\n",
      " - 7s - loss: 1.5425 - acc: 0.4464 - val_loss: 1.5435 - val_acc: 0.4556\n",
      "Epoch 5/15\n",
      " - 7s - loss: 1.4992 - acc: 0.4610 - val_loss: 1.5198 - val_acc: 0.4617\n",
      "Epoch 6/15\n",
      " - 7s - loss: 1.4713 - acc: 0.4702 - val_loss: 1.5349 - val_acc: 0.4529\n",
      "Epoch 7/15\n",
      " - 7s - loss: 1.4459 - acc: 0.4820 - val_loss: 1.5294 - val_acc: 0.4619\n",
      "Epoch 8/15\n",
      " - 8s - loss: 1.4158 - acc: 0.4962 - val_loss: 1.5408 - val_acc: 0.4484\n",
      "Epoch 9/15\n",
      " - 8s - loss: 1.4014 - acc: 0.5000 - val_loss: 1.5182 - val_acc: 0.4660\n",
      "Epoch 10/15\n",
      " - 7s - loss: 1.3829 - acc: 0.5031 - val_loss: 1.5121 - val_acc: 0.4705\n",
      "Epoch 11/15\n",
      " - 8s - loss: 1.3625 - acc: 0.5103 - val_loss: 1.5155 - val_acc: 0.4774\n",
      "Epoch 12/15\n",
      " - 7s - loss: 1.3440 - acc: 0.5176 - val_loss: 1.4988 - val_acc: 0.4790\n",
      "Epoch 13/15\n",
      " - 7s - loss: 1.3230 - acc: 0.5234 - val_loss: 1.4518 - val_acc: 0.4910\n",
      "Epoch 14/15\n",
      " - 8s - loss: 1.3080 - acc: 0.5287 - val_loss: 1.4849 - val_acc: 0.4772\n",
      "Epoch 15/15\n",
      " - 7s - loss: 1.2991 - acc: 0.5363 - val_loss: 1.4812 - val_acc: 0.4876\n"
     ]
    }
   ],
   "source": [
    "history = model.fit(X_train,y_train, epochs=15, batch_size=32, verbose=2, validation_split=0.2)"
   ]
  },
  {
   "cell_type": "code",
   "execution_count": 16,
   "metadata": {},
   "outputs": [],
   "source": [
    "score = model.evaluate(X_test, y_test, batch_size=128, verbose=0)"
   ]
  },
  {
   "cell_type": "code",
   "execution_count": 17,
   "metadata": {},
   "outputs": [
    {
     "name": "stdout",
     "output_type": "stream",
     "text": [
      "['loss', 'acc']\n",
      "[1.4872724494934082, 0.4851]\n"
     ]
    }
   ],
   "source": [
    "print(model.metrics_names)\n",
    "print(score)"
   ]
  },
  {
   "cell_type": "code",
   "execution_count": null,
   "metadata": {},
   "outputs": [],
   "source": []
  }
 ],
 "metadata": {
  "kernelspec": {
   "display_name": "Python 3",
   "language": "python",
   "name": "python3"
  },
  "language_info": {
   "codemirror_mode": {
    "name": "ipython",
    "version": 3
   },
   "file_extension": ".py",
   "mimetype": "text/x-python",
   "name": "python",
   "nbconvert_exporter": "python",
   "pygments_lexer": "ipython3",
   "version": "3.7.3"
  }
 },
 "nbformat": 4,
 "nbformat_minor": 2
}
